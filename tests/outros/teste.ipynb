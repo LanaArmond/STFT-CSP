{
 "cells": [
  {
   "cell_type": "code",
   "execution_count": null,
   "metadata": {
    "collapsed": true
   },
   "outputs": [],
   "source": [
    "import torch\n",
    "from modules.clf.mbeegnet import MBEEGNetModel\n",
    "\n",
    "model = MBEEGNetModel(bands=1, classes=4,  EEGNet_args=[[8, 2, 16],\n",
    "                      64, 'same',\n",
    "                      16, 'same',\n",
    "                      [4, 8], ['avg', 'avg'], 0.5,\n",
    "                      3, 256, 1]).to(device='cuda')\n",
    "\n",
    "X = torch.randn(64,1,3,256).to(device='cuda', dtype=torch.float32)\n",
    "y = torch.ones((64, )).to(dtype=torch.long, device='cuda')\n",
    "model(X, y)\n"
   ]
  },
  {
   "cell_type": "code",
   "execution_count": null,
   "outputs": [],
   "source": [
    "from modules.clf.mbeegnet import MBEEGNet\n",
    "clf = MBEEGNet()\n",
    "clf.fit(X.detach().cpu().numpy(), y.detach().cpu().numpy())"
   ],
   "metadata": {
    "collapsed": false
   }
  },
  {
   "cell_type": "code",
   "execution_count": 4,
   "outputs": [
    {
     "data": {
      "text/plain": "5"
     },
     "execution_count": 4,
     "metadata": {},
     "output_type": "execute_result"
    }
   ],
   "source": [],
   "metadata": {
    "collapsed": false
   }
  }
 ],
 "metadata": {
  "kernelspec": {
   "display_name": "Python 3",
   "language": "python",
   "name": "python3"
  },
  "language_info": {
   "codemirror_mode": {
    "name": "ipython",
    "version": 2
   },
   "file_extension": ".py",
   "mimetype": "text/x-python",
   "name": "python",
   "nbconvert_exporter": "python",
   "pygments_lexer": "ipython2",
   "version": "2.7.6"
  }
 },
 "nbformat": 4,
 "nbformat_minor": 0
}
